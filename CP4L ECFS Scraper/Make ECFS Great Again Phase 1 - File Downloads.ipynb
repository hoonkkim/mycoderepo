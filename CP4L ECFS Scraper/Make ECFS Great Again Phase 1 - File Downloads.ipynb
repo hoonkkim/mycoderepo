{
 "cells": [
  {
   "cell_type": "code",
   "execution_count": 2,
   "id": "96c734b0",
   "metadata": {},
   "outputs": [],
   "source": [
    "import json\n",
    "import requests\n",
    "import sys"
   ]
  },
  {
   "cell_type": "code",
   "execution_count": 4,
   "id": "75102c53",
   "metadata": {},
   "outputs": [],
   "source": [
    "APIUrl = \"https://publicapi.fcc.gov/ecfs/\"\n",
    "\n",
    "try:  #check for  api key\n",
    "    api_key = 'BxepYUkiAaqNXfwGzPNNbIypRSnMeH5N0OzVLuGx'\n",
    "except (ValueError, IndexError):\n",
    "    raise ValueError(\"API key is not supplied  \")\n"
   ]
  },
  {
   "cell_type": "code",
   "execution_count": 50,
   "id": "165ec8ac",
   "metadata": {},
   "outputs": [
    {
     "name": "stdout",
     "output_type": "stream",
     "text": [
      "https://publicapi.fcc.gov/ecfs/filings?&api_key=BxepYUkiAaqNXfwGzPNNbIypRSnMeH5N0OzVLuGx&proceedings.name=17-108\n"
     ]
    }
   ],
   "source": [
    "APIKey = \"&api_key=\"+api_key\n",
    "#customize the query\n",
    "url=APIUrl +'filings?'+APIKey+'&proceedings.name=17-108'\n",
    "\n",
    "#https://publicapi.fcc.gov/ecfs/filings?api_key=[yourkey]&proceedings.name=17-108&type=downloadplan\n",
    "\n",
    "print(url)\n",
    "\n",
    "response = requests.get(url)\n",
    "parsed = response.json()"
   ]
  },
  {
   "cell_type": "code",
   "execution_count": 82,
   "id": "b571f4ee",
   "metadata": {
    "scrolled": true
   },
   "outputs": [
    {
     "name": "stdout",
     "output_type": "stream",
     "text": [
      "https://www.fcc.gov/ecfs/document/10140137102229/1\n"
     ]
    },
    {
     "ename": "TypeError",
     "evalue": "a bytes-like object is required, not 'Response'",
     "output_type": "error",
     "traceback": [
      "\u001b[0;31m---------------------------------------------------------------------------\u001b[0m",
      "\u001b[0;31mTypeError\u001b[0m                                 Traceback (most recent call last)",
      "\u001b[0;32m/var/folders/d_/clxfgy1n0lqdlxjh7yrtqf8r0000gn/T/ipykernel_20843/3350996788.py\u001b[0m in \u001b[0;36m<module>\u001b[0;34m\u001b[0m\n\u001b[1;32m     12\u001b[0m             \u001b[0;32mwith\u001b[0m \u001b[0mopen\u001b[0m\u001b[0;34m(\u001b[0m\u001b[0mfiler_name\u001b[0m\u001b[0;34m+\u001b[0m\u001b[0mstr\u001b[0m\u001b[0;34m(\u001b[0m\u001b[0mfilecount\u001b[0m\u001b[0;34m)\u001b[0m\u001b[0;34m+\u001b[0m\u001b[0;34m'.pdf'\u001b[0m\u001b[0;34m,\u001b[0m \u001b[0;34m'wb'\u001b[0m\u001b[0;34m)\u001b[0m \u001b[0;32mas\u001b[0m \u001b[0mout_file\u001b[0m\u001b[0;34m:\u001b[0m\u001b[0;34m\u001b[0m\u001b[0;34m\u001b[0m\u001b[0m\n\u001b[1;32m     13\u001b[0m                 \u001b[0mr\u001b[0m \u001b[0;34m=\u001b[0m \u001b[0mrequests\u001b[0m\u001b[0;34m.\u001b[0m\u001b[0mget\u001b[0m\u001b[0;34m(\u001b[0m\u001b[0murl\u001b[0m\u001b[0;34m,\u001b[0m \u001b[0mallow_redirects\u001b[0m\u001b[0;34m=\u001b[0m\u001b[0;32mTrue\u001b[0m\u001b[0;34m,\u001b[0m \u001b[0mstream\u001b[0m\u001b[0;34m=\u001b[0m\u001b[0;32mTrue\u001b[0m\u001b[0;34m)\u001b[0m\u001b[0;34m\u001b[0m\u001b[0;34m\u001b[0m\u001b[0m\n\u001b[0;32m---> 14\u001b[0;31m                 \u001b[0mout_file\u001b[0m\u001b[0;34m.\u001b[0m\u001b[0mwrite\u001b[0m\u001b[0;34m(\u001b[0m\u001b[0mr\u001b[0m\u001b[0;34m)\u001b[0m\u001b[0;34m\u001b[0m\u001b[0;34m\u001b[0m\u001b[0m\n\u001b[0m\u001b[1;32m     15\u001b[0m             \u001b[0mfilecount\u001b[0m \u001b[0;34m+=\u001b[0m \u001b[0;36m1\u001b[0m\u001b[0;34m\u001b[0m\u001b[0;34m\u001b[0m\u001b[0m\n",
      "\u001b[0;31mTypeError\u001b[0m: a bytes-like object is required, not 'Response'"
     ]
    }
   ],
   "source": [
    "filings = parsed['filing']\n",
    "# print(filings)\n",
    "for i in filings:\n",
    "    filer_name = i.get('filers')[0]['name']\n",
    "#     print(i.get('documents'))\n",
    "    if i.get('documents') != None:\n",
    "        docs = i.get('documents')\n",
    "        filecount = 1\n",
    "        for d in docs:\n",
    "            url = d.get('src')\n",
    "            print(url)\n",
    "            # do i need beautifulsoup?\n",
    "            with open(filer_name+str(filecount)+'.pdf', 'wb') as out_file:\n",
    "                r = requests.get(url, allow_redirects=True, stream=True)\n",
    "                out_file.write(r)\n",
    "            filecount += 1"
   ]
  },
  {
   "cell_type": "code",
   "execution_count": null,
   "id": "5d590cdc",
   "metadata": {},
   "outputs": [],
   "source": [
    "#for each bucket iterate over list of suggested api calls.\n",
    "for doc in parsed['aggregations']['download_plan']['buckets']:\n",
    "file_slice = str(doc['key'])\n",
    "count=0\n",
    "#print(json.dumps(doc, indent=4,sort_keys=True))\n",
    "if doc['suggested_api_call']:\n",
    "    for api_call in doc['suggested_api_call']:\n",
    "        ++count\n",
    "        api_call_key=api_call+APIKey\n",
    "        file_slice_key = str(doc['key'])+str(count)+'.txt'\n",
    "        print '--> ' + api_call_key\n",
    "        slice_req = requests.get(api_call_key, stream=True)\n",
    "        with open(file_slice_key, 'wb') as fd:\n",
    "            for chunk in slice_req.iter_content(chunk_size=128):\n",
    "                if chunk:\n",
    "                    fd.write(chunk)\n",
    "\n",
    "        fd.close()\n",
    "# End While\n",
    "\n",
    "# Save  the  file"
   ]
  },
  {
   "cell_type": "code",
   "execution_count": null,
   "id": "403d089c",
   "metadata": {},
   "outputs": [],
   "source": []
  },
  {
   "cell_type": "code",
   "execution_count": null,
   "id": "41e5e431",
   "metadata": {},
   "outputs": [],
   "source": []
  }
 ],
 "metadata": {
  "kernelspec": {
   "display_name": "Python 3 (ipykernel)",
   "language": "python",
   "name": "python3"
  },
  "language_info": {
   "codemirror_mode": {
    "name": "ipython",
    "version": 3
   },
   "file_extension": ".py",
   "mimetype": "text/x-python",
   "name": "python",
   "nbconvert_exporter": "python",
   "pygments_lexer": "ipython3",
   "version": "3.9.7"
  }
 },
 "nbformat": 4,
 "nbformat_minor": 5
}
